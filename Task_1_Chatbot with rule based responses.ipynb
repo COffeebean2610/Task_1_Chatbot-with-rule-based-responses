{
 "cells": [
  {
   "cell_type": "code",
   "execution_count": 1,
   "id": "166c94f4",
   "metadata": {},
   "outputs": [
    {
     "name": "stdout",
     "output_type": "stream",
     "text": [
      "Welcome to the chatbot. Type 'bye' to exit.\n",
      "You: hii\n",
      "Chatbot: I'm sorry, I don't understand that.\n",
      "You: hello\n",
      "Chatbot: Hello! How can I help you today?\n",
      "You: do\n",
      "Chatbot: I'm sorry, I don't understand that.\n",
      "You: bye\n",
      "Chatbot: Goodbye! Have a nice day!\n"
     ]
    }
   ],
   "source": [
    "import re\n",
    "\n",
    "def chatbot_response(user_input):\n",
    "    # Convert user input to lower case for case insensitive matching\n",
    "    user_input = user_input.lower()\n",
    "    \n",
    "    # Define rules\n",
    "    rules = {\n",
    "        \"hello\": \"Hello! How can I help you today?\",\n",
    "        \"how are you\": \"I'm just a bot, but I'm here to help you!\",\n",
    "        \"what is your name\": \"I am a simple rule-based chatbot.\",\n",
    "        \"bye\": \"Goodbye! Have a nice day!\",\n",
    "    }\n",
    "    \n",
    "    # Check if user input matches any rule\n",
    "    for pattern, response in rules.items():\n",
    "        if re.search(pattern, user_input):\n",
    "            return response\n",
    "    \n",
    "    # Default response if no rules match\n",
    "    return \"I'm sorry, I don't understand that.\"\n",
    "\n",
    "# Main loop to interact with the chatbot\n",
    "if __name__ == \"__main__\":\n",
    "    print(\"Welcome to the chatbot. Type 'bye' to exit.\")\n",
    "    while True:\n",
    "        user_input = input(\"You: \")\n",
    "        if user_input.lower() == \"bye\":\n",
    "            print(\"Chatbot: Goodbye! Have a nice day!\")\n",
    "            break\n",
    "        response = chatbot_response(user_input)\n",
    "        print(\"Chatbot:\", response)"
   ]
  },
  {
   "cell_type": "code",
   "execution_count": null,
   "id": "d8b51c48",
   "metadata": {},
   "outputs": [],
   "source": []
  }
 ],
 "metadata": {
  "kernelspec": {
   "display_name": "Python 3 (ipykernel)",
   "language": "python",
   "name": "python3"
  },
  "language_info": {
   "codemirror_mode": {
    "name": "ipython",
    "version": 3
   },
   "file_extension": ".py",
   "mimetype": "text/x-python",
   "name": "python",
   "nbconvert_exporter": "python",
   "pygments_lexer": "ipython3",
   "version": "3.11.5"
  }
 },
 "nbformat": 4,
 "nbformat_minor": 5
}
